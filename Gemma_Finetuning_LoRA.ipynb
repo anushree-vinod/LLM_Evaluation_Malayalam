{
 "cells": [
  {
   "cell_type": "markdown",
   "id": "afd95026",
   "metadata": {},
   "source": [
    "# Load Dataset"
   ]
  },
  {
   "cell_type": "code",
   "execution_count": 15,
   "id": "f6e0fcd0",
   "metadata": {},
   "outputs": [],
   "source": [
    "from datasets import load_dataset\n",
    "\n",
    "df = load_dataset(\"ai4bharat/IndicHeadlineGeneration\", \"ml\")"
   ]
  },
  {
   "cell_type": "code",
   "execution_count": 16,
   "id": "5f17b70d",
   "metadata": {},
   "outputs": [],
   "source": [
    "# Shuffle and select 1000 samples from the training set\n",
    "train_dataset = df[\"train\"].shuffle(seed=42).select(range(1000))\n",
    "\n",
    "# Shuffle and select 300 samples from the test set\n",
    "test_dataset = df[\"test\"].select(range(300))"
   ]
  },
  {
   "cell_type": "code",
   "execution_count": 17,
   "id": "84021995",
   "metadata": {},
   "outputs": [],
   "source": [
    "def custom_prompt(example):\n",
    "    text = example[\"input\"]\n",
    "    prompt = f\"\"\"\n",
    "Generate a **clear and concise news headline in Malayalam only** based on the following text.\n",
    "Text (Malayalam): {text}\n",
    "Important:\n",
    "- The output must be **only a headline in Malayalam**.\n",
    "- Do **not** use any other language or script.\n",
    "- Do **not** include any extra commentary or formatting.\n",
    "- Do **not** copy the text word-for-word.\n",
    "- Start your output with: Headline:\"\"\"\n",
    "    return {\"prompt\": prompt, \"completion\": \" \" + example[\"target\"]}\n",
    "\n",
    "# Apply the custom prompt formatting\n",
    "train_dataset = train_dataset.map(custom_prompt, remove_columns=[\"input\", \"target\"])\n",
    "test_dataset = test_dataset.map(custom_prompt, remove_columns=[\"input\", \"target\"])\n"
   ]
  },
  {
   "cell_type": "markdown",
   "id": "439b3902",
   "metadata": {},
   "source": [
    "# Load Model"
   ]
  },
  {
   "cell_type": "code",
   "execution_count": 18,
   "id": "3d8a976e",
   "metadata": {},
   "outputs": [
    {
     "data": {
      "application/vnd.jupyter.widget-view+json": {
       "model_id": "e4fc1070c2fb4285ac7a0df8e00660e3",
       "version_major": 2,
       "version_minor": 0
      },
      "text/plain": [
       "Loading checkpoint shards:   0%|          | 0/2 [00:00<?, ?it/s]"
      ]
     },
     "metadata": {},
     "output_type": "display_data"
    },
    {
     "name": "stderr",
     "output_type": "stream",
     "text": [
      "huggingface/tokenizers: The current process just got forked, after parallelism has already been used. Disabling parallelism to avoid deadlocks...\n",
      "To disable this warning, you can either:\n",
      "\t- Avoid using `tokenizers` before the fork if possible\n",
      "\t- Explicitly set the environment variable TOKENIZERS_PARALLELISM=(true | false)\n"
     ]
    }
   ],
   "source": [
    "import torch\n",
    "from transformers import AutoTokenizer, AutoModelForCausalLM, BitsAndBytesConfig\n",
    "\n",
    "model_id = \"google/gemma-3-4b-it\"\n",
    "\n",
    "bnb_config = BitsAndBytesConfig(\n",
    "    load_in_4bit=True,\n",
    "    bnb_4bit_use_double_quant=True,\n",
    "    bnb_4bit_quant_type=\"nf4\",\n",
    "    bnb_4bit_compute_dtype=torch.bfloat16,\n",
    "    bnb_4bit_quant_storage=torch.bfloat16,\n",
    ")\n",
    "\n",
    "model = AutoModelForCausalLM.from_pretrained(\n",
    "    model_id,\n",
    "    quantization_config=bnb_config,\n",
    "    device_map= \"auto\",         #{\"\": \"cuda:1\"},\n",
    "    torch_dtype=torch.bfloat16,\n",
    ")\n",
    "\n",
    "tokenizer = AutoTokenizer.from_pretrained(model_id)\n",
    "tokenizer.pad_token = tokenizer.eos_token\n"
   ]
  },
  {
   "cell_type": "code",
   "execution_count": 19,
   "id": "59b52df0",
   "metadata": {},
   "outputs": [],
   "source": [
    "def tokenize_function(examples):\n",
    "    return tokenizer(examples[\"prompt\"], padding=\"max_length\", truncation=True)\n",
    "\n",
    "train_dataset = train_dataset.map(tokenize_function, batched=True)\n",
    "test_dataset = test_dataset.map(tokenize_function, batched=True)\n"
   ]
  },
  {
   "cell_type": "code",
   "execution_count": 20,
   "id": "4d34b317",
   "metadata": {},
   "outputs": [
    {
     "name": "stderr",
     "output_type": "stream",
     "text": [
      "huggingface/tokenizers: The current process just got forked, after parallelism has already been used. Disabling parallelism to avoid deadlocks...\n",
      "To disable this warning, you can either:\n",
      "\t- Avoid using `tokenizers` before the fork if possible\n",
      "\t- Explicitly set the environment variable TOKENIZERS_PARALLELISM=(true | false)\n"
     ]
    }
   ],
   "source": [
    "from peft import LoraConfig\n",
    "from trl import SFTTrainer, SFTConfig\n",
    "\n",
    "peft_config = LoraConfig(\n",
    "    r=16,\n",
    "    lora_alpha=32,\n",
    "    lora_dropout=0.05,\n",
    "    bias=\"none\",\n",
    "    target_modules=\"all-linear\",\n",
    "    task_type=\"CAUSAL_LM\",\n",
    "    modules_to_save=[\"embed_tokens\",\"lm_head\"],\n",
    ")\n",
    "\n",
    "sft_config = SFTConfig(\n",
    "    output_dir=\"gemma3_malayalam_headlines\",\n",
    "    max_seq_length=512,\n",
    "    packing=True,\n",
    "    num_train_epochs=3,\n",
    "    per_device_train_batch_size=1,\n",
    "    gradient_accumulation_steps=4,\n",
    "    gradient_checkpointing=True,\n",
    "    learning_rate=2e-4,\n",
    "    fp16=False,\n",
    "    bf16=True,  # since we're using bfloat16\n",
    "    logging_steps=10,\n",
    "    save_strategy=\"epoch\",\n",
    "    optim=\"paged_adamw_8bit\",\n",
    "    max_grad_norm=0.3,\n",
    "    warmup_ratio=0.03,\n",
    "    lr_scheduler_type=\"constant\",\n",
    "    push_to_hub=False,\n",
    ")\n"
   ]
  },
  {
   "cell_type": "markdown",
   "id": "bd9f11e3",
   "metadata": {},
   "source": [
    "# Trainer Setup"
   ]
  },
  {
   "cell_type": "code",
   "execution_count": 13,
   "id": "e5d27098",
   "metadata": {},
   "outputs": [
    {
     "name": "stderr",
     "output_type": "stream",
     "text": [
      "huggingface/tokenizers: The current process just got forked, after parallelism has already been used. Disabling parallelism to avoid deadlocks...\n",
      "To disable this warning, you can either:\n",
      "\t- Avoid using `tokenizers` before the fork if possible\n",
      "\t- Explicitly set the environment variable TOKENIZERS_PARALLELISM=(true | false)\n"
     ]
    },
    {
     "name": "stdout",
     "output_type": "stream",
     "text": [
      "Requirement already satisfied: trl in /home/anushree.vinod/anaconda3/envs/tf_anushree/lib/python3.9/site-packages (0.18.2)\n",
      "Requirement already satisfied: accelerate>=0.34.0 in /home/anushree.vinod/anaconda3/envs/tf_anushree/lib/python3.9/site-packages (from trl) (1.7.0)\n",
      "Requirement already satisfied: datasets>=3.0.0 in /home/anushree.vinod/anaconda3/envs/tf_anushree/lib/python3.9/site-packages (from trl) (3.6.0)\n",
      "Requirement already satisfied: transformers>=4.50.0 in /home/anushree.vinod/anaconda3/envs/tf_anushree/lib/python3.9/site-packages (from trl) (4.52.4)\n",
      "Requirement already satisfied: numpy<3.0.0,>=1.17 in /home/anushree.vinod/anaconda3/envs/tf_anushree/lib/python3.9/site-packages (from accelerate>=0.34.0->trl) (2.0.2)\n",
      "Requirement already satisfied: packaging>=20.0 in /home/anushree.vinod/anaconda3/envs/tf_anushree/lib/python3.9/site-packages (from accelerate>=0.34.0->trl) (25.0)\n",
      "Requirement already satisfied: psutil in /home/anushree.vinod/anaconda3/envs/tf_anushree/lib/python3.9/site-packages (from accelerate>=0.34.0->trl) (5.9.0)\n",
      "Requirement already satisfied: pyyaml in /home/anushree.vinod/anaconda3/envs/tf_anushree/lib/python3.9/site-packages (from accelerate>=0.34.0->trl) (6.0.2)\n",
      "Requirement already satisfied: torch>=2.0.0 in /home/anushree.vinod/anaconda3/envs/tf_anushree/lib/python3.9/site-packages (from accelerate>=0.34.0->trl) (2.7.1+cu128)\n",
      "Requirement already satisfied: huggingface-hub>=0.21.0 in /home/anushree.vinod/anaconda3/envs/tf_anushree/lib/python3.9/site-packages (from accelerate>=0.34.0->trl) (0.32.4)\n",
      "Requirement already satisfied: safetensors>=0.4.3 in /home/anushree.vinod/anaconda3/envs/tf_anushree/lib/python3.9/site-packages (from accelerate>=0.34.0->trl) (0.5.3)\n",
      "Requirement already satisfied: filelock in /home/anushree.vinod/anaconda3/envs/tf_anushree/lib/python3.9/site-packages (from datasets>=3.0.0->trl) (3.18.0)\n",
      "Requirement already satisfied: pyarrow>=15.0.0 in /home/anushree.vinod/anaconda3/envs/tf_anushree/lib/python3.9/site-packages (from datasets>=3.0.0->trl) (20.0.0)\n",
      "Requirement already satisfied: dill<0.3.9,>=0.3.0 in /home/anushree.vinod/anaconda3/envs/tf_anushree/lib/python3.9/site-packages (from datasets>=3.0.0->trl) (0.3.8)\n",
      "Requirement already satisfied: pandas in /home/anushree.vinod/anaconda3/envs/tf_anushree/lib/python3.9/site-packages (from datasets>=3.0.0->trl) (2.3.0)\n",
      "Requirement already satisfied: requests>=2.32.2 in /home/anushree.vinod/anaconda3/envs/tf_anushree/lib/python3.9/site-packages (from datasets>=3.0.0->trl) (2.32.4)\n",
      "Requirement already satisfied: tqdm>=4.66.3 in /home/anushree.vinod/anaconda3/envs/tf_anushree/lib/python3.9/site-packages (from datasets>=3.0.0->trl) (4.67.1)\n",
      "Requirement already satisfied: xxhash in /home/anushree.vinod/anaconda3/envs/tf_anushree/lib/python3.9/site-packages (from datasets>=3.0.0->trl) (3.5.0)\n",
      "Requirement already satisfied: multiprocess<0.70.17 in /home/anushree.vinod/anaconda3/envs/tf_anushree/lib/python3.9/site-packages (from datasets>=3.0.0->trl) (0.70.16)\n",
      "Requirement already satisfied: fsspec<=2025.3.0,>=2023.1.0 in /home/anushree.vinod/anaconda3/envs/tf_anushree/lib/python3.9/site-packages (from fsspec[http]<=2025.3.0,>=2023.1.0->datasets>=3.0.0->trl) (2025.3.0)\n",
      "Requirement already satisfied: aiohttp!=4.0.0a0,!=4.0.0a1 in /home/anushree.vinod/anaconda3/envs/tf_anushree/lib/python3.9/site-packages (from fsspec[http]<=2025.3.0,>=2023.1.0->datasets>=3.0.0->trl) (3.12.12)\n",
      "Requirement already satisfied: aiohappyeyeballs>=2.5.0 in /home/anushree.vinod/anaconda3/envs/tf_anushree/lib/python3.9/site-packages (from aiohttp!=4.0.0a0,!=4.0.0a1->fsspec[http]<=2025.3.0,>=2023.1.0->datasets>=3.0.0->trl) (2.6.1)\n",
      "Requirement already satisfied: aiosignal>=1.1.2 in /home/anushree.vinod/anaconda3/envs/tf_anushree/lib/python3.9/site-packages (from aiohttp!=4.0.0a0,!=4.0.0a1->fsspec[http]<=2025.3.0,>=2023.1.0->datasets>=3.0.0->trl) (1.3.2)\n",
      "Requirement already satisfied: async-timeout<6.0,>=4.0 in /home/anushree.vinod/anaconda3/envs/tf_anushree/lib/python3.9/site-packages (from aiohttp!=4.0.0a0,!=4.0.0a1->fsspec[http]<=2025.3.0,>=2023.1.0->datasets>=3.0.0->trl) (5.0.1)\n",
      "Requirement already satisfied: attrs>=17.3.0 in /home/anushree.vinod/anaconda3/envs/tf_anushree/lib/python3.9/site-packages (from aiohttp!=4.0.0a0,!=4.0.0a1->fsspec[http]<=2025.3.0,>=2023.1.0->datasets>=3.0.0->trl) (25.3.0)\n",
      "Requirement already satisfied: frozenlist>=1.1.1 in /home/anushree.vinod/anaconda3/envs/tf_anushree/lib/python3.9/site-packages (from aiohttp!=4.0.0a0,!=4.0.0a1->fsspec[http]<=2025.3.0,>=2023.1.0->datasets>=3.0.0->trl) (1.7.0)\n",
      "Requirement already satisfied: multidict<7.0,>=4.5 in /home/anushree.vinod/anaconda3/envs/tf_anushree/lib/python3.9/site-packages (from aiohttp!=4.0.0a0,!=4.0.0a1->fsspec[http]<=2025.3.0,>=2023.1.0->datasets>=3.0.0->trl) (6.4.4)\n",
      "Requirement already satisfied: propcache>=0.2.0 in /home/anushree.vinod/anaconda3/envs/tf_anushree/lib/python3.9/site-packages (from aiohttp!=4.0.0a0,!=4.0.0a1->fsspec[http]<=2025.3.0,>=2023.1.0->datasets>=3.0.0->trl) (0.3.2)\n",
      "Requirement already satisfied: yarl<2.0,>=1.17.0 in /home/anushree.vinod/anaconda3/envs/tf_anushree/lib/python3.9/site-packages (from aiohttp!=4.0.0a0,!=4.0.0a1->fsspec[http]<=2025.3.0,>=2023.1.0->datasets>=3.0.0->trl) (1.20.1)\n",
      "Requirement already satisfied: typing-extensions>=4.1.0 in /home/anushree.vinod/anaconda3/envs/tf_anushree/lib/python3.9/site-packages (from multidict<7.0,>=4.5->aiohttp!=4.0.0a0,!=4.0.0a1->fsspec[http]<=2025.3.0,>=2023.1.0->datasets>=3.0.0->trl) (4.14.0)\n",
      "Requirement already satisfied: idna>=2.0 in /home/anushree.vinod/anaconda3/envs/tf_anushree/lib/python3.9/site-packages (from yarl<2.0,>=1.17.0->aiohttp!=4.0.0a0,!=4.0.0a1->fsspec[http]<=2025.3.0,>=2023.1.0->datasets>=3.0.0->trl) (3.10)\n",
      "Requirement already satisfied: hf-xet<2.0.0,>=1.1.2 in /home/anushree.vinod/anaconda3/envs/tf_anushree/lib/python3.9/site-packages (from huggingface-hub>=0.21.0->accelerate>=0.34.0->trl) (1.1.3)\n",
      "Requirement already satisfied: charset_normalizer<4,>=2 in /home/anushree.vinod/anaconda3/envs/tf_anushree/lib/python3.9/site-packages (from requests>=2.32.2->datasets>=3.0.0->trl) (3.4.2)\n",
      "Requirement already satisfied: urllib3<3,>=1.21.1 in /home/anushree.vinod/anaconda3/envs/tf_anushree/lib/python3.9/site-packages (from requests>=2.32.2->datasets>=3.0.0->trl) (2.4.0)\n",
      "Requirement already satisfied: certifi>=2017.4.17 in /home/anushree.vinod/anaconda3/envs/tf_anushree/lib/python3.9/site-packages (from requests>=2.32.2->datasets>=3.0.0->trl) (2025.4.26)\n",
      "Requirement already satisfied: sympy>=1.13.3 in /home/anushree.vinod/anaconda3/envs/tf_anushree/lib/python3.9/site-packages (from torch>=2.0.0->accelerate>=0.34.0->trl) (1.13.3)\n",
      "Requirement already satisfied: networkx in /home/anushree.vinod/anaconda3/envs/tf_anushree/lib/python3.9/site-packages (from torch>=2.0.0->accelerate>=0.34.0->trl) (3.2.1)\n",
      "Requirement already satisfied: jinja2 in /home/anushree.vinod/anaconda3/envs/tf_anushree/lib/python3.9/site-packages (from torch>=2.0.0->accelerate>=0.34.0->trl) (3.1.6)\n",
      "Requirement already satisfied: nvidia-cuda-nvrtc-cu12==12.8.61 in /home/anushree.vinod/anaconda3/envs/tf_anushree/lib/python3.9/site-packages (from torch>=2.0.0->accelerate>=0.34.0->trl) (12.8.61)\n",
      "Requirement already satisfied: nvidia-cuda-runtime-cu12==12.8.57 in /home/anushree.vinod/anaconda3/envs/tf_anushree/lib/python3.9/site-packages (from torch>=2.0.0->accelerate>=0.34.0->trl) (12.8.57)\n",
      "Requirement already satisfied: nvidia-cuda-cupti-cu12==12.8.57 in /home/anushree.vinod/anaconda3/envs/tf_anushree/lib/python3.9/site-packages (from torch>=2.0.0->accelerate>=0.34.0->trl) (12.8.57)\n",
      "Requirement already satisfied: nvidia-cudnn-cu12==9.7.1.26 in /home/anushree.vinod/anaconda3/envs/tf_anushree/lib/python3.9/site-packages (from torch>=2.0.0->accelerate>=0.34.0->trl) (9.7.1.26)\n",
      "Requirement already satisfied: nvidia-cublas-cu12==12.8.3.14 in /home/anushree.vinod/anaconda3/envs/tf_anushree/lib/python3.9/site-packages (from torch>=2.0.0->accelerate>=0.34.0->trl) (12.8.3.14)\n",
      "Requirement already satisfied: nvidia-cufft-cu12==11.3.3.41 in /home/anushree.vinod/anaconda3/envs/tf_anushree/lib/python3.9/site-packages (from torch>=2.0.0->accelerate>=0.34.0->trl) (11.3.3.41)\n",
      "Requirement already satisfied: nvidia-curand-cu12==10.3.9.55 in /home/anushree.vinod/anaconda3/envs/tf_anushree/lib/python3.9/site-packages (from torch>=2.0.0->accelerate>=0.34.0->trl) (10.3.9.55)\n",
      "Requirement already satisfied: nvidia-cusolver-cu12==11.7.2.55 in /home/anushree.vinod/anaconda3/envs/tf_anushree/lib/python3.9/site-packages (from torch>=2.0.0->accelerate>=0.34.0->trl) (11.7.2.55)\n",
      "Requirement already satisfied: nvidia-cusparse-cu12==12.5.7.53 in /home/anushree.vinod/anaconda3/envs/tf_anushree/lib/python3.9/site-packages (from torch>=2.0.0->accelerate>=0.34.0->trl) (12.5.7.53)\n",
      "Requirement already satisfied: nvidia-cusparselt-cu12==0.6.3 in /home/anushree.vinod/anaconda3/envs/tf_anushree/lib/python3.9/site-packages (from torch>=2.0.0->accelerate>=0.34.0->trl) (0.6.3)\n",
      "Requirement already satisfied: nvidia-nccl-cu12==2.26.2 in /home/anushree.vinod/anaconda3/envs/tf_anushree/lib/python3.9/site-packages (from torch>=2.0.0->accelerate>=0.34.0->trl) (2.26.2)\n",
      "Requirement already satisfied: nvidia-nvtx-cu12==12.8.55 in /home/anushree.vinod/anaconda3/envs/tf_anushree/lib/python3.9/site-packages (from torch>=2.0.0->accelerate>=0.34.0->trl) (12.8.55)\n",
      "Requirement already satisfied: nvidia-nvjitlink-cu12==12.8.61 in /home/anushree.vinod/anaconda3/envs/tf_anushree/lib/python3.9/site-packages (from torch>=2.0.0->accelerate>=0.34.0->trl) (12.8.61)\n",
      "Requirement already satisfied: nvidia-cufile-cu12==1.13.0.11 in /home/anushree.vinod/anaconda3/envs/tf_anushree/lib/python3.9/site-packages (from torch>=2.0.0->accelerate>=0.34.0->trl) (1.13.0.11)\n",
      "Requirement already satisfied: triton==3.3.1 in /home/anushree.vinod/anaconda3/envs/tf_anushree/lib/python3.9/site-packages (from torch>=2.0.0->accelerate>=0.34.0->trl) (3.3.1)\n",
      "Requirement already satisfied: setuptools>=40.8.0 in /home/anushree.vinod/anaconda3/envs/tf_anushree/lib/python3.9/site-packages (from triton==3.3.1->torch>=2.0.0->accelerate>=0.34.0->trl) (78.1.1)\n",
      "Requirement already satisfied: mpmath<1.4,>=1.1.0 in /home/anushree.vinod/anaconda3/envs/tf_anushree/lib/python3.9/site-packages (from sympy>=1.13.3->torch>=2.0.0->accelerate>=0.34.0->trl) (1.3.0)\n",
      "Requirement already satisfied: regex!=2019.12.17 in /home/anushree.vinod/anaconda3/envs/tf_anushree/lib/python3.9/site-packages (from transformers>=4.50.0->trl) (2024.11.6)\n",
      "Requirement already satisfied: tokenizers<0.22,>=0.21 in /home/anushree.vinod/anaconda3/envs/tf_anushree/lib/python3.9/site-packages (from transformers>=4.50.0->trl) (0.21.1)\n",
      "Requirement already satisfied: MarkupSafe>=2.0 in /home/anushree.vinod/anaconda3/envs/tf_anushree/lib/python3.9/site-packages (from jinja2->torch>=2.0.0->accelerate>=0.34.0->trl) (3.0.2)\n",
      "Requirement already satisfied: python-dateutil>=2.8.2 in /home/anushree.vinod/anaconda3/envs/tf_anushree/lib/python3.9/site-packages (from pandas->datasets>=3.0.0->trl) (2.9.0.post0)\n",
      "Requirement already satisfied: pytz>=2020.1 in /home/anushree.vinod/anaconda3/envs/tf_anushree/lib/python3.9/site-packages (from pandas->datasets>=3.0.0->trl) (2025.2)\n",
      "Requirement already satisfied: tzdata>=2022.7 in /home/anushree.vinod/anaconda3/envs/tf_anushree/lib/python3.9/site-packages (from pandas->datasets>=3.0.0->trl) (2025.2)\n",
      "Requirement already satisfied: six>=1.5 in /home/anushree.vinod/anaconda3/envs/tf_anushree/lib/python3.9/site-packages (from python-dateutil>=2.8.2->pandas->datasets>=3.0.0->trl) (1.17.0)\n"
     ]
    }
   ],
   "source": [
    "!pip install -U trl"
   ]
  },
  {
   "cell_type": "code",
   "execution_count": 1,
   "id": "fc6b1ffa",
   "metadata": {},
   "outputs": [
    {
     "ename": "NameError",
     "evalue": "name 'SFTTrainer' is not defined",
     "output_type": "error",
     "traceback": [
      "\u001b[0;31m---------------------------------------------------------------------------\u001b[0m",
      "\u001b[0;31mNameError\u001b[0m                                 Traceback (most recent call last)",
      "Cell \u001b[0;32mIn[1], line 1\u001b[0m\n\u001b[0;32m----> 1\u001b[0m trainer \u001b[38;5;241m=\u001b[39m \u001b[43mSFTTrainer\u001b[49m(\n\u001b[1;32m      2\u001b[0m     model\u001b[38;5;241m=\u001b[39mmodel,\n\u001b[1;32m      3\u001b[0m     args\u001b[38;5;241m=\u001b[39msft_config,\n\u001b[1;32m      4\u001b[0m     train_dataset\u001b[38;5;241m=\u001b[39mtrain_dataset,\n\u001b[1;32m      5\u001b[0m     eval_dataset\u001b[38;5;241m=\u001b[39mtest_dataset,\n\u001b[1;32m      6\u001b[0m     peft_config\u001b[38;5;241m=\u001b[39mpeft_config,\n\u001b[1;32m      7\u001b[0m     processing_class\u001b[38;5;241m=\u001b[39mtokenizer,  \u001b[38;5;66;03m# Use processing_class instead of tokenizer\u001b[39;00m\n\u001b[1;32m      8\u001b[0m )\n\u001b[1;32m     10\u001b[0m trainer\u001b[38;5;241m.\u001b[39mtrain()\n\u001b[1;32m     11\u001b[0m trainer\u001b[38;5;241m.\u001b[39msave_model()\n",
      "\u001b[0;31mNameError\u001b[0m: name 'SFTTrainer' is not defined"
     ]
    }
   ],
   "source": [
    "trainer = SFTTrainer(\n",
    "    model=model,\n",
    "    args=sft_config,\n",
    "    train_dataset=train_dataset,\n",
    "    eval_dataset=test_dataset,\n",
    "    peft_config=peft_config,\n",
    "    processing_class=tokenizer,  # Use processing_class instead of tokenizer\n",
    ")\n",
    "\n",
    "trainer.train()\n",
    "trainer.save_model()\n"
   ]
  },
  {
   "cell_type": "code",
   "execution_count": null,
   "id": "c9154569",
   "metadata": {},
   "outputs": [],
   "source": [
    "eval_results = trainer.evaluate()\n",
    "print(eval_results)"
   ]
  },
  {
   "cell_type": "code",
   "execution_count": null,
   "id": "fbeb5d19",
   "metadata": {},
   "outputs": [],
   "source": []
  }
 ],
 "metadata": {
  "kernelspec": {
   "display_name": "tf_anushree",
   "language": "python",
   "name": "python3"
  },
  "language_info": {
   "codemirror_mode": {
    "name": "ipython",
    "version": 3
   },
   "file_extension": ".py",
   "mimetype": "text/x-python",
   "name": "python",
   "nbconvert_exporter": "python",
   "pygments_lexer": "ipython3",
   "version": "3.9.23"
  }
 },
 "nbformat": 4,
 "nbformat_minor": 5
}
